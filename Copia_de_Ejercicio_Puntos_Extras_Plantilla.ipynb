{
  "nbformat": 4,
  "nbformat_minor": 0,
  "metadata": {
    "colab": {
      "provenance": [],
      "include_colab_link": true
    },
    "kernelspec": {
      "name": "python3",
      "display_name": "Python 3"
    },
    "language_info": {
      "name": "python"
    }
  },
  "cells": [
    {
      "cell_type": "markdown",
      "metadata": {
        "id": "view-in-github",
        "colab_type": "text"
      },
      "source": [
        "<a href=\"https://colab.research.google.com/github/Swidenx/Repositorio-Para-Empresa/blob/main/Copia_de_Ejercicio_Puntos_Extras_Plantilla.ipynb\" target=\"_parent\"><img src=\"https://colab.research.google.com/assets/colab-badge.svg\" alt=\"Open In Colab\"/></a>"
      ]
    },
    {
      "cell_type": "markdown",
      "source": [
        "### Aplicación de condicionales, bucles y vectores"
      ],
      "metadata": {
        "id": "pslq2sXfayM2"
      }
    },
    {
      "cell_type": "markdown",
      "source": [
        "## Condicionales"
      ],
      "metadata": {
        "id": "CxyHUJFRcdxN"
      }
    },
    {
      "cell_type": "markdown",
      "source": [
        "\n",
        "La sintaxis de la construcción if es la siguiente:\n",
        "\n",
        "```\n",
        "if condición:\n",
        "    aquí van las órdenes que se ejecutan\n",
        "    si la condición es cierta y que pueden ocupar varias líneas\n",
        "```\n",
        "\n",
        "\n",
        "\n",
        "\n",
        "\n"
      ],
      "metadata": {
        "id": "dM2zZPGQba6_"
      }
    },
    {
      "cell_type": "markdown",
      "source": [
        "`input()` se utiliza para ingresar valores por teclado\n",
        "\n",
        "`int()`   se utiliza para transformar un caracter en un entero\n",
        "\n",
        "`print()` se utiliza para imprimir"
      ],
      "metadata": {
        "id": "nPnUNFyvduuW"
      }
    },
    {
      "cell_type": "markdown",
      "source": [
        "Ejemplo:"
      ],
      "metadata": {
        "id": "QdcbNH7rduaF"
      }
    },
    {
      "cell_type": "code",
      "execution_count": null,
      "metadata": {
        "colab": {
          "base_uri": "https://localhost:8080/"
        },
        "id": "vVe2L6xVauD5",
        "outputId": "7a22ae56-d696-462a-c088-9f2a4e68b97d"
      },
      "outputs": [
        {
          "output_type": "stream",
          "name": "stdout",
          "text": [
            "Escriba un número positivo: 5\n",
            "El número es positivo\n",
            "Ha escrito el número 5\n"
          ]
        }
      ],
      "source": [
        "numero = int(input(\"Escriba un número positivo: \"))\n",
        "if numero < 0:\n",
        "  print(\"El número es negativo\")\n",
        "else:\n",
        "  print(\"El número es positivo\")\n",
        "\n",
        "print(\"Ha escrito el número\", numero)"
      ]
    },
    {
      "cell_type": "markdown",
      "source": [
        "## Bucle for"
      ],
      "metadata": {
        "id": "92hSy1eAc2Vd"
      }
    },
    {
      "cell_type": "markdown",
      "source": [
        "El bucle for se utiliza para recorrer los elementos de un objeto iterable (lista, tupla, conjunto, diccionario, …) y ejecutar un bloque de código. En cada paso de la iteración se tiene en cuenta a un único elemento del objeto iterable, sobre el cuál se pueden aplicar una serie de operaciones.\n",
        "\n",
        "Su sintaxis es la siguiente:\n",
        "\n",
        "\n",
        "```\n",
        "for <elem> in <iterable>:\n",
        "    <Tu código>\n",
        "```\n",
        "\n",
        "Aquí, `elem` es la variable que toma el valor del elemento dentro del iterador en cada paso del bucle. Este finaliza su ejecución cuando se recorren todos los elementos.\n",
        "\n",
        "Ejemplos:"
      ],
      "metadata": {
        "id": "C8m1w1pMc4DI"
      }
    },
    {
      "cell_type": "code",
      "source": [
        "# Ejemplo 1\n",
        "nums = [4, 78, 9, 84]\n",
        "for n in nums:\n",
        "    print(n)"
      ],
      "metadata": {
        "colab": {
          "base_uri": "https://localhost:8080/"
        },
        "id": "8UZQm60Rc-ri",
        "outputId": "5ab21301-6833-4244-e9f2-55dd3d6e3cd4"
      },
      "execution_count": null,
      "outputs": [
        {
          "output_type": "stream",
          "name": "stdout",
          "text": [
            "4\n",
            "78\n",
            "9\n",
            "84\n"
          ]
        }
      ]
    },
    {
      "cell_type": "code",
      "source": [
        "#Ejemplo 2\n",
        "for i in range(11):\n",
        "    print(i)"
      ],
      "metadata": {
        "colab": {
          "base_uri": "https://localhost:8080/"
        },
        "id": "D_LbvqiRdTy2",
        "outputId": "bcfc51f7-dc18-4e55-fdcd-1b21056ab9d4"
      },
      "execution_count": null,
      "outputs": [
        {
          "output_type": "stream",
          "name": "stdout",
          "text": [
            "0\n",
            "1\n",
            "2\n",
            "3\n",
            "4\n",
            "5\n",
            "6\n",
            "7\n",
            "8\n",
            "9\n",
            "10\n"
          ]
        }
      ]
    },
    {
      "cell_type": "markdown",
      "source": [
        "## Ejercicio de práctica"
      ],
      "metadata": {
        "id": "A_I84MK4dimn"
      }
    },
    {
      "cell_type": "markdown",
      "source": [
        "Ingresar por teclado un carnet\n"
      ],
      "metadata": {
        "id": "vWeJCeq-jB6M"
      }
    },
    {
      "cell_type": "code",
      "source": [
        "carnet = input(\"Ingrese el numero de carnet de identidad a verificar \")\n",
        "  "
      ],
      "metadata": {
        "colab": {
          "base_uri": "https://localhost:8080/"
        },
        "id": "xSFzedFBdmgO",
        "outputId": "90e83af6-34c4-4d16-bf30-011cdf8fa6a8"
      },
      "execution_count": null,
      "outputs": [
        {
          "name": "stdout",
          "output_type": "stream",
          "text": [
            "Ingrese el numero de carnet de identidad a verificar 12689194\n"
          ]
        }
      ]
    },
    {
      "cell_type": "markdown",
      "source": [
        "Verificar cantidad de dígitos con `len()`"
      ],
      "metadata": {
        "id": "fwL9xFoifFiD"
      }
    },
    {
      "cell_type": "code",
      "source": [
        "tam = len(carnet)\n",
        "print(\"La cantidad de dígitos del carnet es\", tam)"
      ],
      "metadata": {
        "id": "UIVSIfo5jas1",
        "outputId": "ca7e7277-4755-41a7-9c1d-c98eefbe0179",
        "colab": {
          "base_uri": "https://localhost:8080/"
        }
      },
      "execution_count": null,
      "outputs": [
        {
          "output_type": "stream",
          "name": "stdout",
          "text": [
            "La cantidad de dígitos del carnet es 8\n"
          ]
        }
      ]
    },
    {
      "cell_type": "markdown",
      "source": [
        "¿Cuántos valores igual a 5 hay en el carnet? Implementar:\n",
        "- `for`\n",
        "- `int()`\n",
        "- `if`\n",
        "- `print()`"
      ],
      "metadata": {
        "id": "D4YNGKioj7hj"
      }
    },
    {
      "cell_type": "code",
      "source": [
        "cantidadDeCincos = 0\n",
        "for i in carnet:\n",
        "  #Convertir i en un entero\n",
        "  i = int(i)\n",
        "\n",
        "  #Agregar la condición si i es igual a 5\n",
        "  if i==5:\n",
        "    #El contador de cantidadDeCincos se incrementa\n",
        "    cantidadDeCincos=cantidadDeCincos+1\n",
        "\n",
        "print(\"El carnet es igual a:\" ,carnet)\n",
        "print(\"La cantidad de dígitos igual a 5 es\", cantidadDeCincos)"
      ],
      "metadata": {
        "id": "NBhlw0UqkNut",
        "outputId": "0fbb0444-bbf9-44d0-f815-9c35bb356888",
        "colab": {
          "base_uri": "https://localhost:8080/"
        }
      },
      "execution_count": null,
      "outputs": [
        {
          "output_type": "stream",
          "name": "stdout",
          "text": [
            "El carnet es igual a: 12689194\n",
            "La cantidad de dígitos igual a 5 es 0\n"
          ]
        }
      ]
    },
    {
      "cell_type": "markdown",
      "source": [
        "Verificar cuántos dígitos son menores a 5, para ello es necesario aplicar:\n",
        "- `for`\n",
        "- `int()`\n",
        "- `if`\n",
        "- `print()`\n"
      ],
      "metadata": {
        "id": "uerKsCmBgNE1"
      }
    },
    {
      "cell_type": "code",
      "source": [
        "digMayores = 0\n",
        "digMenores = 0\n",
        "for i in carnet:\n",
        "  #Convertir i en un entero\n",
        "  i = int(i)\n",
        "\n",
        "  #Agregar la condición\n",
        "  if i>=5:\n",
        "    digMayores = digMayores + 1\n",
        "  else:\n",
        "    digMenores = digMenores + 1\n",
        "\n",
        "print(\"El carnet es igual a:\" ,carnet)\n",
        "print(\"La cantidad de dígitos menores a 5 es\",digMenores)\n",
        "print(\"La cantidad de dígitos mayores a 5 es\",digMayores)"
      ],
      "metadata": {
        "colab": {
          "base_uri": "https://localhost:8080/"
        },
        "id": "8O4RiSl7gMl0",
        "outputId": "dc43f1ff-2519-4a12-8462-170de0e37c9a"
      },
      "execution_count": null,
      "outputs": [
        {
          "output_type": "stream",
          "name": "stdout",
          "text": [
            "El carnet es igual a: 12689194\n",
            "La cantidad de dígitos menores a 5 es 4\n",
            "La cantidad de dígitos mayores a 5 es 4\n"
          ]
        }
      ]
    }
  ]
}